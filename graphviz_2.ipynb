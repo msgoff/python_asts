{
 "cells": [
  {
   "cell_type": "code",
   "execution_count": 456,
   "metadata": {},
   "outputs": [],
   "source": [
    "df = pd.read_csv('/ud/python_asts/PDG_function_calls.csv')"
   ]
  },
  {
   "cell_type": "code",
   "execution_count": 457,
   "metadata": {},
   "outputs": [],
   "source": [
    "df.file_name = df.file_name.apply(lambda x:x.replace('flask/',''))"
   ]
  },
  {
   "cell_type": "code",
   "execution_count": 475,
   "metadata": {},
   "outputs": [
    {
     "data": {
      "text/plain": [
       "0.182"
      ]
     },
     "execution_count": 475,
     "metadata": {},
     "output_type": "execute_result"
    }
   ],
   "source": [
    "len(data)*1000/1000000"
   ]
  },
  {
   "cell_type": "code",
   "execution_count": 458,
   "metadata": {},
   "outputs": [],
   "source": [
    "data = sorted(df[df.file_name=='compute.py'].name.tolist(),key=lambda x:len(x))"
   ]
  },
  {
   "cell_type": "code",
   "execution_count": 459,
   "metadata": {},
   "outputs": [],
   "source": [
    "data = data[:-1]"
   ]
  },
  {
   "cell_type": "code",
   "execution_count": 460,
   "metadata": {},
   "outputs": [],
   "source": [
    "import pandas as pd \n"
   ]
  },
  {
   "cell_type": "code",
   "execution_count": 461,
   "metadata": {},
   "outputs": [
    {
     "data": {
      "image/png": "[encoded data removed]",
      "text/plain": [
       "<Figure size 432x288 with 1 Axes>"
      ]
     },
     "metadata": {
      "needs_background": "light"
     },
     "output_type": "display_data"
    }
   ],
   "source": [
    "#https://stackoverflow.com/a/54253891\n",
    "import numpy as np\n",
    "import matplotlib.pyplot as plt\n",
    "import math\n",
    "\n",
    "def fermat_spiral(dot):\n",
    "    data=[]    \n",
    "    d=dot*.125\n",
    "    for i in range(dot): \n",
    "        t = i / d * np.pi\n",
    "        x = (1 +  t) * math.cos(t)\n",
    "        y = (1 +  t) * math.sin(t)\n",
    "        data.append([x,y])\n",
    "    narr = np.array(data)\n",
    "    f_s = np.concatenate((narr,-narr))\n",
    "    return f_s\n",
    "\n",
    "f_spiral = fermat_spiral(1000*len(data))\n",
    "plt.scatter(f_spiral[len(f_spiral)//2:,0],f_spiral[len(f_spiral)//2:,1])\n",
    "plt.scatter(f_spiral[:len(f_spiral)//2,0],f_spiral[:len(f_spiral)//2,1])\n",
    "plt.show()"
   ]
  },
  {
   "cell_type": "code",
   "execution_count": 462,
   "metadata": {},
   "outputs": [
    {
     "data": {
      "text/plain": [
       "43"
      ]
     },
     "execution_count": 462,
     "metadata": {},
     "output_type": "execute_result"
    }
   ],
   "source": [
    "f = open('dot_test.dot','w')\n",
    "\n",
    "header = '''digraph {\n",
    "overlap=\\\"false\\\";\n",
    "splines=\\\"true\\\";\n",
    "'''\n",
    "f.write(header)"
   ]
  },
  {
   "cell_type": "code",
   "execution_count": 463,
   "metadata": {},
   "outputs": [],
   "source": [
    "arr = [xs for ix,xs in enumerate(f_spiral) if ix % 1000 == 0]"
   ]
  },
  {
   "cell_type": "code",
   "execution_count": 464,
   "metadata": {},
   "outputs": [],
   "source": [
    "arr = arr[:-2]"
   ]
  },
  {
   "cell_type": "code",
   "execution_count": 465,
   "metadata": {},
   "outputs": [],
   "source": [
    "file_name='compute.py'"
   ]
  },
  {
   "cell_type": "code",
   "execution_count": 466,
   "metadata": {},
   "outputs": [],
   "source": [
    "avg = df.call_count.mean()"
   ]
  },
  {
   "cell_type": "code",
   "execution_count": 467,
   "metadata": {},
   "outputs": [],
   "source": [
    "for ix,item in enumerate(data):\n",
    "    call_count = df[(df.name==data[ix]) & (df.file_name==file_name)].call_count.tolist()[0]\n",
    "    if call_count > avg:\n",
    "        resp = \"[color=\\\"red\\\",pos=\\\"{},{}!\\\"];\".format(arr[ix][0],arr[ix][1])\n",
    "        resp = \"\\\"{}\\\"\".format(data[ix]) + resp\n",
    "        f.write(resp)\n",
    "        f.write('\\n')\n",
    "    else:\n",
    "        resp = \"[pos=\\\"{},{}!\\\"];\".format(arr[ix][0],arr[ix][1])\n",
    "        resp = \"\\\"{}\\\"\".format(data[ix]) + resp\n",
    "        f.write(resp)\n",
    "        f.write('\\n')\n",
    "for ix in data:\n",
    "    resp = '0' + '->\\\"' + ix + '\\\";'  \n",
    "    f.write(resp)\n",
    "    f.write('\\n')\n",
    "f.write('}')\n",
    "f.close()"
   ]
  },
  {
   "cell_type": "code",
   "execution_count": 468,
   "metadata": {},
   "outputs": [
    {
     "data": {
      "text/plain": [
       "182"
      ]
     },
     "execution_count": 468,
     "metadata": {},
     "output_type": "execute_result"
    }
   ],
   "source": [
    "len(data)"
   ]
  },
  {
   "cell_type": "code",
   "execution_count": 469,
   "metadata": {},
   "outputs": [
    {
     "data": {
      "text/plain": [
       "362"
      ]
     },
     "execution_count": 469,
     "metadata": {},
     "output_type": "execute_result"
    }
   ],
   "source": [
    "len(arr)"
   ]
  },
  {
   "cell_type": "code",
   "execution_count": 470,
   "metadata": {},
   "outputs": [
    {
     "data": {
      "text/plain": [
       "'list_of_all_expr_global_IDs_for_this_deriv.append'"
      ]
     },
     "execution_count": 470,
     "metadata": {},
     "output_type": "execute_result"
    }
   ],
   "source": [
    "ix"
   ]
  },
  {
   "cell_type": "code",
   "execution_count": null,
   "metadata": {},
   "outputs": [],
   "source": []
  },
  {
   "cell_type": "code",
   "execution_count": null,
   "metadata": {},
   "outputs": [],
   "source": []
  },
  {
   "cell_type": "code",
   "execution_count": null,
   "metadata": {},
   "outputs": [],
   "source": []
  },
  {
   "cell_type": "code",
   "execution_count": null,
   "metadata": {},
   "outputs": [],
   "source": []
  },
  {
   "cell_type": "code",
   "execution_count": null,
   "metadata": {},
   "outputs": [],
   "source": []
  }
 ],
 "metadata": {
  "kernelspec": {
   "display_name": "Django Shell-Plus",
   "language": "python",
   "name": "django_extensions"
  },
  "language_info": {
   "codemirror_mode": {
    "name": "ipython",
    "version": 3
   },
   "file_extension": ".py",
   "mimetype": "text/x-python",
   "name": "python",
   "nbconvert_exporter": "python",
   "pygments_lexer": "ipython3",
   "version": "3.7.3"
  }
 },
 "nbformat": 4,
 "nbformat_minor": 4
}
